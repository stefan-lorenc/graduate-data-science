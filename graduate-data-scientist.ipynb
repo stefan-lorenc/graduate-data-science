{
 "cells": [
  {
   "cell_type": "markdown",
   "source": [
    "# This is a Jupyter notebook looking to address application questions for a graduate data science position"
   ],
   "metadata": {
    "collapsed": false
   }
  },
  {
   "cell_type": "markdown",
   "source": [
    "# An ant leaves its anthill in order to forage for food. It moves with the speed of 10cm per second, but it doesn't know where to go, therefore every second it moves randomly 10cm directly north, south, east or west with equal probability."
   ],
   "metadata": {
    "collapsed": false
   }
  },
  {
   "cell_type": "code",
   "execution_count": 87,
   "outputs": [],
   "source": [
    "import numpy\n",
    "import pylab\n",
    "import random\n",
    "from tqdm import tqdm\n",
    "import sys"
   ],
   "metadata": {
    "collapsed": false,
    "pycharm": {
     "name": "#%%\n"
    }
   }
  },
  {
   "cell_type": "code",
   "execution_count": 88,
   "outputs": [],
   "source": [
    "def solve(m, b, point):\n",
    "    if point[1] == (m * point[0]) + b:\n",
    "        return True\n",
    "    return False"
   ],
   "metadata": {
    "collapsed": false,
    "pycharm": {
     "name": "#%%\n"
    }
   }
  },
  {
   "cell_type": "markdown",
   "source": [
    "# Question 1. If the food is located on east-west lines 20cm to the north and 20cm to the south, as well as on north-south lines 20cm to the east and 20cm to the west from the anthill, how long will it take the ant to reach it on average?"
   ],
   "metadata": {
    "collapsed": false
   }
  },
  {
   "cell_type": "code",
   "execution_count": null,
   "outputs": [],
   "source": [
    "n = 1000000\n",
    "\n",
    "loc = [0, 0]\n",
    "timesteps = []\n",
    "\n",
    "for _ in tqdm(range(n)):\n",
    "    i = 0\n",
    "    loc = [0, 0]\n",
    "    while True:\n",
    "        val = random.randint(1, 4)\n",
    "        if val == 1:\n",
    "            loc = [loc[0], loc[1] + 1]\n",
    "        elif val == 2:\n",
    "            loc = [loc[0], loc[1] - 1]\n",
    "        elif val == 3:\n",
    "            loc = [loc[0] + 1, loc[1]]\n",
    "        elif val == 4:\n",
    "            loc = [loc[0] - 1, loc[1]]\n",
    "        i += 1\n",
    "        #\n",
    "        # solve(-1, 1, loc)\n",
    "        if solve(0, 2, loc) or solve(0, -2, loc) or loc[0] == 2 or loc[0] == -2:\n",
    "            timesteps.append(i)\n",
    "            break\n",
    "\n",
    "\n",
    "steps = round(sum(timesteps) / len(timesteps), 1)\n",
    "\n",
    "print(f'Question 1: {steps} steps on average. The ant on average reaches food in {steps*10} seconds')"
   ],
   "metadata": {
    "collapsed": false,
    "pycharm": {
     "name": "#%%\n"
    }
   }
  },
  {
   "cell_type": "markdown",
   "source": [
    "# Question 2. What is the average time the ant will reach food if it is located only on a diagonal line passing through (10cm, 0cm) and (0cm, 10cm) points?"
   ],
   "metadata": {
    "collapsed": false
   }
  },
  {
   "cell_type": "markdown",
   "source": [
    "Inifinte due to the unbounding of the problem. However, if you bound the problem with life expectancy of the ant (1-2 years), an answer can be achieved."
   ],
   "metadata": {
    "collapsed": false
   }
  },
  {
   "cell_type": "markdown",
   "source": [
    "# Question 3. Can you write a program that comes up with an estimate of average time to find food for any closed boundary around the anthill? What would be the answer if food is located outside an defined by ( (x – 2.5cm) / 30cm )2 + ( (y – 2.5cm) / 40cm )2 < 1 in coordinate system where the anthill is located at (x = 0cm, y = 0cm)? Provide us with a solution rounded to the nearest integer."
   ],
   "metadata": {
    "collapsed": false
   }
  },
  {
   "cell_type": "code",
   "execution_count": 90,
   "outputs": [],
   "source": [
    "n = 1_000_000\n",
    "# this is the number of iterations to test for the average, increasing the value improves the accuracy for smaller boundaries and is necessary for larger boundaries. However, it will increase the time to completion\n",
    "\n",
    "loc = [0, 0]\n",
    "timesteps = []"
   ],
   "metadata": {
    "collapsed": false,
    "pycharm": {
     "name": "#%%\n"
    }
   }
  },
  {
   "cell_type": "code",
   "execution_count": 91,
   "outputs": [],
   "source": [
    "def boundary_condition(x, y):\n",
    "    return ((x - 2.5)/30) ** 2 + ((y - 2.5)/40) ** 2 < 1 # here is the boundary condition definition. Provided a valid area is defined in this manner an average time to reach food outside this boundary can be evaluated"
   ],
   "metadata": {
    "collapsed": false,
    "pycharm": {
     "name": "#%%\n"
    }
   }
  },
  {
   "cell_type": "code",
   "execution_count": null,
   "outputs": [],
   "source": [
    "for _ in tqdm(range(n)):\n",
    "    i = 0\n",
    "    loc = [0, 0]\n",
    "    while True:\n",
    "        val = random.randint(1, 4)\n",
    "        if val == 1:\n",
    "            loc = [loc[0], loc[1] + 1]\n",
    "        elif val == 2:\n",
    "            loc = [loc[0], loc[1] - 1]\n",
    "        elif val == 3:\n",
    "            loc = [loc[0] + 1, loc[1]]\n",
    "        elif val == 4:\n",
    "            loc = [loc[0] - 1, loc[1]]\n",
    "        i += 1\n",
    "\n",
    "        if not boundary_condition(loc[0], loc[1]):\n",
    "            timesteps.append(i)\n",
    "            break\n",
    "\n",
    "steps = round(sum(timesteps) / len(timesteps))\n",
    "\n",
    "print(f'Question 3: {steps} steps on average for the boundary defined. The ant on average reaches food in {steps*10} seconds')"
   ],
   "metadata": {
    "collapsed": false,
    "pycharm": {
     "name": "#%%\n"
    }
   }
  },
  {
   "cell_type": "markdown",
   "source": [],
   "metadata": {
    "collapsed": false
   }
  }
 ],
 "metadata": {
  "kernelspec": {
   "display_name": "Python 3",
   "language": "python",
   "name": "python3"
  },
  "language_info": {
   "codemirror_mode": {
    "name": "ipython",
    "version": 2
   },
   "file_extension": ".py",
   "mimetype": "text/x-python",
   "name": "python",
   "nbconvert_exporter": "python",
   "pygments_lexer": "ipython2",
   "version": "2.7.6"
  }
 },
 "nbformat": 4,
 "nbformat_minor": 0
}